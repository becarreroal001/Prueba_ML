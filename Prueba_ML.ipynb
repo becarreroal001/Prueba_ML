{
 "cells": [
  {
   "cell_type": "markdown",
   "metadata": {},
   "source": [
    "# Challange Bestseller"
   ]
  },
  {
   "cell_type": "markdown",
   "metadata": {},
   "source": [
    "##### Librerias necesarias"
   ]
  },
  {
   "cell_type": "code",
   "execution_count": 344,
   "metadata": {},
   "outputs": [],
   "source": [
    "import requests as rq\n",
    "import json\n",
    "import numpy as np\n",
    "import pandas as pd\n",
    "import datetime\n",
    "from datetime import datetime as dt"
   ]
  },
  {
   "cell_type": "markdown",
   "metadata": {},
   "source": [
    "### API search Mercado Libre Brasil"
   ]
  },
  {
   "cell_type": "code",
   "execution_count": 345,
   "metadata": {},
   "outputs": [],
   "source": [
    "APIsearch = 'https://api.mercadolibre.com/sites/MLB/search'\n",
    "max_results = 200\n",
    "pagLimit = 50\n",
    "query = 'samsung galaxy a20'\n",
    "condition = 'new'\n",
    "category = 'MLB1055' # id para celulares e Smarphones\n",
    "responseTimeSearch = []\n",
    "id_item = []\n",
    "\n",
    "x = 0\n",
    "while x < max_results:\n",
    "    # While que maneja la paginacion\n",
    "    args = {'q': query, 'condition': condition, 'category': category, 'offset': x, 'limit': pagLimit}\n",
    "    response = rq.get(APIsearch, params = args)\n",
    "    responseTimeSearch.append(response.elapsed.total_seconds())\n",
    "    data = json.loads(response.content)\n",
    "    for i in data['results']:\n",
    "        # ciclo para guardar en un array los id_items recopilados de cada invocacion a la API\n",
    "        id_item.append( i['id'])\n",
    "    x += pagLimit"
   ]
  },
  {
   "cell_type": "markdown",
   "metadata": {},
   "source": [
    "### API para obtener los atributos de cada items"
   ]
  },
  {
   "cell_type": "code",
   "execution_count": 346,
   "metadata": {},
   "outputs": [],
   "source": [
    "def warranty_translate (sale_terms):\n",
    "    if len(sale_terms) != 0:\n",
    "        return sale_terms[0]['id']\n",
    "    else:\n",
    "        return 'Not Warranty'"
   ]
  },
  {
   "cell_type": "code",
   "execution_count": 347,
   "metadata": {},
   "outputs": [],
   "source": [
    "APIitems = 'https://api.mercadolibre.com/items/'\n",
    "responseTimeItems = []\n",
    "sold_quantity=[]\n",
    "start_time=[]\n",
    "id_seller=[] \n",
    "prices=[]\n",
    "warranty=[]\n",
    "mode_shipping=[]\n",
    "international_delivery_mode = []\n",
    "free_shipping = []\n",
    "\n",
    "for i in id_item:\n",
    "    responseItems = rq.get(APIitems + i)\n",
    "    responseTimeItems.append(responseItems.elapsed.total_seconds()) #tiempo de respuesta cuando voy a pegarle a la API\n",
    "    item = json.loads(responseItems.content)\n",
    "    #Llenando listas con datos para luego insertar en el DataFrame\n",
    "    sold_quantity.append(item['sold_quantity'])\n",
    "    start_time.append(item['start_time'])\n",
    "    id_seller.append(item['seller_id'])\n",
    "    prices.append(item['price'])\n",
    "    warranty.append(warranty_translate(item['sale_terms']))\n",
    "    mode_shipping.append(item['shipping']['mode'])\n",
    "    free_shipping.append(item['shipping']['free_shipping'])   \n",
    "    international_delivery_mode.append(item['international_delivery_mode'])    "
   ]
  },
  {
   "cell_type": "markdown",
   "metadata": {},
   "source": [
    "#### API conversion currency Brasil 'BRL' to dollar 'USD'"
   ]
  },
  {
   "cell_type": "code",
   "execution_count": 349,
   "metadata": {},
   "outputs": [],
   "source": [
    "responseCurrencyConversions = rq.get('https://api.mercadolibre.com/currency_conversions/search?from=BRL&to=USD')\n",
    "responseCurrencyConversions.elapsed.total_seconds()\n",
    "conversion = json.loads(responseCurrencyConversions.content)"
   ]
  },
  {
   "cell_type": "code",
   "execution_count": 351,
   "metadata": {},
   "outputs": [
    {
     "data": {
      "text/html": [
       "<div>\n",
       "<style scoped>\n",
       "    .dataframe tbody tr th:only-of-type {\n",
       "        vertical-align: middle;\n",
       "    }\n",
       "\n",
       "    .dataframe tbody tr th {\n",
       "        vertical-align: top;\n",
       "    }\n",
       "\n",
       "    .dataframe thead th {\n",
       "        text-align: right;\n",
       "    }\n",
       "</style>\n",
       "<table border=\"1\" class=\"dataframe\">\n",
       "  <thead>\n",
       "    <tr style=\"text-align: right;\">\n",
       "      <th></th>\n",
       "      <th>id_item</th>\n",
       "      <th>id_seller</th>\n",
       "      <th>sold_quantity</th>\n",
       "      <th>diff_days</th>\n",
       "      <th>price_dollar</th>\n",
       "      <th>warranty</th>\n",
       "      <th>mode_shipping</th>\n",
       "      <th>free_shipping</th>\n",
       "      <th>international_delivery</th>\n",
       "    </tr>\n",
       "  </thead>\n",
       "  <tbody>\n",
       "    <tr>\n",
       "      <th>0</th>\n",
       "      <td>MLB1388367860</td>\n",
       "      <td>179890703</td>\n",
       "      <td>0</td>\n",
       "      <td>98</td>\n",
       "      <td>200.78</td>\n",
       "      <td>WARRANTY_TIME</td>\n",
       "      <td>me1</td>\n",
       "      <td>False</td>\n",
       "      <td>none</td>\n",
       "    </tr>\n",
       "    <tr>\n",
       "      <th>1</th>\n",
       "      <td>MLB1388367879</td>\n",
       "      <td>321921696</td>\n",
       "      <td>0</td>\n",
       "      <td>98</td>\n",
       "      <td>233.07</td>\n",
       "      <td>Not Warranty</td>\n",
       "      <td>me2</td>\n",
       "      <td>True</td>\n",
       "      <td>none</td>\n",
       "    </tr>\n",
       "    <tr>\n",
       "      <th>2</th>\n",
       "      <td>MLB1462418937</td>\n",
       "      <td>155425567</td>\n",
       "      <td>25</td>\n",
       "      <td>11</td>\n",
       "      <td>186.42</td>\n",
       "      <td>WARRANTY_TYPE</td>\n",
       "      <td>me2</td>\n",
       "      <td>True</td>\n",
       "      <td>none</td>\n",
       "    </tr>\n",
       "    <tr>\n",
       "      <th>3</th>\n",
       "      <td>MLB1465272277</td>\n",
       "      <td>135482855</td>\n",
       "      <td>1</td>\n",
       "      <td>9</td>\n",
       "      <td>200.22</td>\n",
       "      <td>WARRANTY_TYPE</td>\n",
       "      <td>me2</td>\n",
       "      <td>True</td>\n",
       "      <td>none</td>\n",
       "    </tr>\n",
       "    <tr>\n",
       "      <th>4</th>\n",
       "      <td>MLB1219240233</td>\n",
       "      <td>155425567</td>\n",
       "      <td>500</td>\n",
       "      <td>329</td>\n",
       "      <td>252.51</td>\n",
       "      <td>WARRANTY_TYPE</td>\n",
       "      <td>me1</td>\n",
       "      <td>False</td>\n",
       "      <td>none</td>\n",
       "    </tr>\n",
       "  </tbody>\n",
       "</table>\n",
       "</div>"
      ],
      "text/plain": [
       "         id_item  id_seller  sold_quantity diff_days  price_dollar  \\\n",
       "0  MLB1388367860  179890703              0        98        200.78   \n",
       "1  MLB1388367879  321921696              0        98        233.07   \n",
       "2  MLB1462418937  155425567             25        11        186.42   \n",
       "3  MLB1465272277  135482855              1         9        200.22   \n",
       "4  MLB1219240233  155425567            500       329        252.51   \n",
       "\n",
       "        warranty mode_shipping  free_shipping international_delivery  \n",
       "0  WARRANTY_TIME           me1          False                   none  \n",
       "1   Not Warranty           me2           True                   none  \n",
       "2  WARRANTY_TYPE           me2           True                   none  \n",
       "3  WARRANTY_TYPE           me2           True                   none  \n",
       "4  WARRANTY_TYPE           me1          False                   none  "
      ]
     },
     "execution_count": 351,
     "metadata": {},
     "output_type": "execute_result"
    }
   ],
   "source": [
    "df = pd.DataFrame({'id_item':id_item, 'id_seller':id_seller,'sold_quantity':sold_quantity,\n",
    "                   'diff_days':[str(datetime.date.today()-(dt.strptime(x[:-14],'%Y-%m-%d').date()))[:-14] for x in start_time], \n",
    "                   'price_dollar':[ np.around(x*conversion['ratio'],2) for x in prices], 'warranty':warranty,\n",
    "                   'mode_shipping':mode_shipping, 'free_shipping':free_shipping, \n",
    "                   'international_delivery':international_delivery_mode})\n",
    "df.head()"
   ]
  }
 ],
 "metadata": {
  "kernelspec": {
   "display_name": "Python 3",
   "language": "python",
   "name": "python3"
  },
  "language_info": {
   "codemirror_mode": {
    "name": "ipython",
    "version": 3
   },
   "file_extension": ".py",
   "mimetype": "text/x-python",
   "name": "python",
   "nbconvert_exporter": "python",
   "pygments_lexer": "ipython3",
   "version": "3.7.6"
  }
 },
 "nbformat": 4,
 "nbformat_minor": 4
}
