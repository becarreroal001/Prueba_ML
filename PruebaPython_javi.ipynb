{
 "cells": [
  {
   "cell_type": "code",
   "execution_count": 3,
   "metadata": {},
   "outputs": [
    {
     "data": {
      "text/plain": [
       "['MLB1349493327',\n",
       " 'MLB1349497347',\n",
       " 'MLB1349498665',\n",
       " 'MLB1349500372',\n",
       " 'MLB1349500812',\n",
       " 'MLB1349503970',\n",
       " 'MLB1349500814']"
      ]
     },
     "execution_count": 3,
     "metadata": {},
     "output_type": "execute_result"
    }
   ],
   "source": [
    "import requests as request\n",
    "import json\n",
    "import pandas as pd\n",
    " \n",
    "response = request.get('https://api.mercadolibre.com/sites/MLB/search?q=samsungGalaxyA30')\n",
    "data = json.loads(response.content)\n",
    "# df = pd.DataFrame.from_dict(data['results'])#Con esto metemos el contenido del json en un DF aunque se ve todo asqueroso y no sirve\n",
    "resultados_inicales = data['results']#Con esto asiganamos a una variable lo que hay en resuls, que es la verdadera informacion que me interes\n",
    "var = []\n",
    "for i in data['results']:\n",
    "    var.append( i['id'])\n",
    "\n",
    "var"
   ]
  },
  {
   "cell_type": "code",
   "execution_count": 35,
   "metadata": {},
   "outputs": [
    {
     "data": {
      "text/plain": [
       "'MLB1349500812'"
      ]
     },
     "execution_count": 35,
     "metadata": {},
     "output_type": "execute_result"
    }
   ],
   "source": [
    "resultados_inicales[3]['id']"
   ]
  },
  {
   "cell_type": "code",
   "execution_count": 4,
   "metadata": {},
   "outputs": [],
   "source": [
    "#Llenando listas con datos para luego insertar en el DF\n",
    "cantidad_vendida=[]\n",
    "tiempo_incio=[]\n",
    "id_seller=[] \n",
    "precios=[]\n",
    "currency_id=[]\n",
    "sale_terms=[]\n",
    "mode_shipping=[]\n",
    "response_time = []\n",
    "\n",
    "for i in var:\n",
    "    responseApi2 = request.get('https://api.mercadolibre.com/items/'+ i)\n",
    "    response_time.append(response.elapsed.total_seconds())#tiempo de respuesta cuando voy a pegarle a la api\n",
    "    data2=json.loads(responseApi2.content)\n",
    "    cantidad_vendida.append(data2['sold_quantity'])\n",
    "    tiempo_incio.append(data2['start_time'])\n",
    "    id_seller.append(data2['seller_id'])\n",
    "    precios.append(data2['price'])\n",
    "    currency_id.append(data2['currency_id'])\n",
    "    sale_terms.append(sale_terms_translate(data2['sale_terms']))\n",
    "    mode_shipping.append(shipping_translate(data2['shipping']))\n",
    "    \n",
    "        \n",
    "    \n"
   ]
  },
  {
   "cell_type": "code",
   "execution_count": 70,
   "metadata": {},
   "outputs": [
    {
     "data": {
      "text/plain": [
       "'country'"
      ]
     },
     "execution_count": 70,
     "metadata": {},
     "output_type": "execute_result"
    }
   ],
   "source": [
    "data2['shipping']['free_methods'][0]['rule']['free_mode']"
   ]
  },
  {
   "cell_type": "code",
   "execution_count": 75,
   "metadata": {},
   "outputs": [
    {
     "data": {
      "text/plain": [
       "[0.557018, 0.557018, 0.557018, 0.557018, 0.557018, 0.557018, 0.557018]"
      ]
     },
     "execution_count": 75,
     "metadata": {},
     "output_type": "execute_result"
    }
   ],
   "source": [
    "response_time"
   ]
  },
  {
   "cell_type": "code",
   "execution_count": 2,
   "metadata": {},
   "outputs": [],
   "source": [
    "def shipping_translate (dic_shipping):\n",
    "    if dic_shipping['free_shipping'] == True:\n",
    "        return dic_shipping['free_methods'][0]['rule']['free_mode']\n",
    "    else:\n",
    "        return ' '\n",
    "    \n",
    "def sale_terms_translate (list_sales):\n",
    "    if len(list_sales) != 0:\n",
    "        return list_sales[0]['id']\n",
    "    else:\n",
    "        return ' '"
   ]
  },
  {
   "cell_type": "code",
   "execution_count": 5,
   "metadata": {},
   "outputs": [
    {
     "data": {
      "text/html": [
       "<div>\n",
       "<style scoped>\n",
       "    .dataframe tbody tr th:only-of-type {\n",
       "        vertical-align: middle;\n",
       "    }\n",
       "\n",
       "    .dataframe tbody tr th {\n",
       "        vertical-align: top;\n",
       "    }\n",
       "\n",
       "    .dataframe thead th {\n",
       "        text-align: right;\n",
       "    }\n",
       "</style>\n",
       "<table border=\"1\" class=\"dataframe\">\n",
       "  <thead>\n",
       "    <tr style=\"text-align: right;\">\n",
       "      <th></th>\n",
       "      <th>id_producto</th>\n",
       "      <th>id_seller</th>\n",
       "      <th>cantidad_vendidos</th>\n",
       "      <th>tiempos_iniciales</th>\n",
       "      <th>precios</th>\n",
       "      <th>currency_id</th>\n",
       "      <th>sale_terms</th>\n",
       "      <th>mode_shipping</th>\n",
       "    </tr>\n",
       "  </thead>\n",
       "  <tbody>\n",
       "    <tr>\n",
       "      <th>0</th>\n",
       "      <td>MLB1349493327</td>\n",
       "      <td>459734183</td>\n",
       "      <td>0</td>\n",
       "      <td>2019-10-25T13:54:35.000Z</td>\n",
       "      <td>198.36</td>\n",
       "      <td>BRL</td>\n",
       "      <td></td>\n",
       "      <td>Probando funcion</td>\n",
       "    </tr>\n",
       "    <tr>\n",
       "      <th>1</th>\n",
       "      <td>MLB1349497347</td>\n",
       "      <td>459734183</td>\n",
       "      <td>0</td>\n",
       "      <td>2019-10-25T13:54:28.000Z</td>\n",
       "      <td>198.36</td>\n",
       "      <td>BRL</td>\n",
       "      <td></td>\n",
       "      <td>Probando funcion</td>\n",
       "    </tr>\n",
       "    <tr>\n",
       "      <th>2</th>\n",
       "      <td>MLB1349498665</td>\n",
       "      <td>459734183</td>\n",
       "      <td>0</td>\n",
       "      <td>2019-10-25T13:55:45.000Z</td>\n",
       "      <td>198.36</td>\n",
       "      <td>BRL</td>\n",
       "      <td></td>\n",
       "      <td>Probando funcion</td>\n",
       "    </tr>\n",
       "    <tr>\n",
       "      <th>3</th>\n",
       "      <td>MLB1349500372</td>\n",
       "      <td>459734183</td>\n",
       "      <td>0</td>\n",
       "      <td>2019-10-25T13:55:24.000Z</td>\n",
       "      <td>198.36</td>\n",
       "      <td>BRL</td>\n",
       "      <td></td>\n",
       "      <td>Probando funcion</td>\n",
       "    </tr>\n",
       "    <tr>\n",
       "      <th>4</th>\n",
       "      <td>MLB1349500812</td>\n",
       "      <td>459734183</td>\n",
       "      <td>0</td>\n",
       "      <td>2019-10-25T13:55:47.000Z</td>\n",
       "      <td>198.36</td>\n",
       "      <td>BRL</td>\n",
       "      <td></td>\n",
       "      <td>Probando funcion</td>\n",
       "    </tr>\n",
       "    <tr>\n",
       "      <th>5</th>\n",
       "      <td>MLB1349503970</td>\n",
       "      <td>459734183</td>\n",
       "      <td>0</td>\n",
       "      <td>2019-10-25T13:57:00.000Z</td>\n",
       "      <td>198.36</td>\n",
       "      <td>BRL</td>\n",
       "      <td></td>\n",
       "      <td>Probando funcion</td>\n",
       "    </tr>\n",
       "    <tr>\n",
       "      <th>6</th>\n",
       "      <td>MLB1349500814</td>\n",
       "      <td>459734183</td>\n",
       "      <td>0</td>\n",
       "      <td>2019-10-25T13:55:47.000Z</td>\n",
       "      <td>198.36</td>\n",
       "      <td>BRL</td>\n",
       "      <td></td>\n",
       "      <td>Probando funcion</td>\n",
       "    </tr>\n",
       "  </tbody>\n",
       "</table>\n",
       "</div>"
      ],
      "text/plain": [
       "     id_producto  id_seller  cantidad_vendidos         tiempos_iniciales  \\\n",
       "0  MLB1349493327  459734183                  0  2019-10-25T13:54:35.000Z   \n",
       "1  MLB1349497347  459734183                  0  2019-10-25T13:54:28.000Z   \n",
       "2  MLB1349498665  459734183                  0  2019-10-25T13:55:45.000Z   \n",
       "3  MLB1349500372  459734183                  0  2019-10-25T13:55:24.000Z   \n",
       "4  MLB1349500812  459734183                  0  2019-10-25T13:55:47.000Z   \n",
       "5  MLB1349503970  459734183                  0  2019-10-25T13:57:00.000Z   \n",
       "6  MLB1349500814  459734183                  0  2019-10-25T13:55:47.000Z   \n",
       "\n",
       "   precios currency_id sale_terms     mode_shipping  \n",
       "0   198.36         BRL             Probando funcion  \n",
       "1   198.36         BRL             Probando funcion  \n",
       "2   198.36         BRL             Probando funcion  \n",
       "3   198.36         BRL             Probando funcion  \n",
       "4   198.36         BRL             Probando funcion  \n",
       "5   198.36         BRL             Probando funcion  \n",
       "6   198.36         BRL             Probando funcion  "
      ]
     },
     "execution_count": 5,
     "metadata": {},
     "output_type": "execute_result"
    }
   ],
   "source": [
    "data = pd.DataFrame({'id_producto': var,'id_seller':id_seller,'cantidad_vendidos':cantidad_vendida,'tiempos_iniciales':tiempo_incio,'precios':precios,'currency_id':currency_id,'sale_terms':sale_terms,'mode_shipping':mode_shipping})\n",
    "data\n"
   ]
  },
  {
   "cell_type": "code",
   "execution_count": 7,
   "metadata": {},
   "outputs": [
    {
     "data": {
      "text/plain": [
       "'DDU'"
      ]
     },
     "execution_count": 7,
     "metadata": {},
     "output_type": "execute_result"
    }
   ],
   "source": [
    "data2['international_delivery_mode']"
   ]
  }
 ],
 "metadata": {
  "kernelspec": {
   "display_name": "Python 3",
   "language": "python",
   "name": "python3"
  },
  "language_info": {
   "codemirror_mode": {
    "name": "ipython",
    "version": 3
   },
   "file_extension": ".py",
   "mimetype": "text/x-python",
   "name": "python",
   "nbconvert_exporter": "python",
   "pygments_lexer": "ipython3",
   "version": "3.7.6"
  }
 },
 "nbformat": 4,
 "nbformat_minor": 4
}
