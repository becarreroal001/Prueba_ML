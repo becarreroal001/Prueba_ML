{
 "cells": [
  {
   "cell_type": "code",
   "execution_count": 56,
   "metadata": {},
   "outputs": [
    {
     "data": {
      "text/plain": [
       "{'id': 'MLB1349493327',\n",
       " 'site_id': 'MLB',\n",
       " 'title': 'Estojo De Couro Para Samsunggalaxya30 Preto',\n",
       " 'seller': {'id': 459734183,\n",
       "  'permalink': None,\n",
       "  'power_seller_status': None,\n",
       "  'car_dealer': False,\n",
       "  'real_estate_agency': False,\n",
       "  'tags': ['international_seller']},\n",
       " 'price': 195.32,\n",
       " 'currency_id': 'BRL',\n",
       " 'available_quantity': 250,\n",
       " 'sold_quantity': 0,\n",
       " 'buying_mode': 'buy_it_now',\n",
       " 'listing_type_id': 'gold_pro',\n",
       " 'stop_time': '2039-10-20T04:00:00.000Z',\n",
       " 'condition': 'new',\n",
       " 'permalink': 'https://produto.mercadolivre.com.br/MLB-1349493327-estojo-de-couro-para-samsunggalaxya30-preto-_JM',\n",
       " 'thumbnail': 'http://mlb-s2-p.mlstatic.com/837281-MLB32657754969_102019-I.jpg',\n",
       " 'accepts_mercadopago': True,\n",
       " 'installments': {'quantity': 12,\n",
       "  'amount': 16.28,\n",
       "  'rate': 0,\n",
       "  'currency_id': 'BRL'},\n",
       " 'address': {'state_id': 'BR-SP',\n",
       "  'state_name': 'São Paulo',\n",
       "  'city_id': 'BR-SP-44',\n",
       "  'city_name': 'São Paulo'},\n",
       " 'shipping': {'free_shipping': True,\n",
       "  'mode': 'me1',\n",
       "  'tags': [],\n",
       "  'logistic_type': 'default',\n",
       "  'store_pick_up': False},\n",
       " 'seller_address': {'id': '',\n",
       "  'comment': '',\n",
       "  'address_line': '',\n",
       "  'zip_code': '',\n",
       "  'country': {'id': 'BR', 'name': 'Brasil'},\n",
       "  'state': {'id': 'BR-SP', 'name': 'São Paulo'},\n",
       "  'city': {'id': 'BR-SP-44', 'name': 'São Paulo'},\n",
       "  'latitude': '',\n",
       "  'longitude': ''},\n",
       " 'attributes': [{'values': [{'id': '2230284',\n",
       "     'name': 'Novo',\n",
       "     'struct': None,\n",
       "     'source': 1}],\n",
       "   'value_name': 'Novo',\n",
       "   'value_struct': None,\n",
       "   'attribute_group_id': '',\n",
       "   'attribute_group_name': '',\n",
       "   'source': 1,\n",
       "   'id': 'ITEM_CONDITION',\n",
       "   'name': 'Condição do item',\n",
       "   'value_id': '2230284'},\n",
       "  {'name': 'Marca',\n",
       "   'value_id': None,\n",
       "   'value_name': 'WISETONY',\n",
       "   'attribute_group_name': 'Outros',\n",
       "   'source': 4428142924625477,\n",
       "   'id': 'BRAND',\n",
       "   'value_struct': None,\n",
       "   'values': [{'id': None,\n",
       "     'name': 'WISETONY',\n",
       "     'struct': None,\n",
       "     'source': 4428142924625477}],\n",
       "   'attribute_group_id': 'OTHERS'},\n",
       "  {'attribute_group_name': 'Outros',\n",
       "   'source': 4428142924625477,\n",
       "   'id': 'CELL_BRAND',\n",
       "   'name': 'Marca do celular',\n",
       "   'value_id': '98669',\n",
       "   'value_name': 'Samsung',\n",
       "   'value_struct': None,\n",
       "   'values': [{'source': 4428142924625477,\n",
       "     'id': '98669',\n",
       "     'name': 'Samsung',\n",
       "     'struct': None}],\n",
       "   'attribute_group_id': 'OTHERS'},\n",
       "  {'id': 'MODEL',\n",
       "   'name': 'Modelo',\n",
       "   'attribute_group_id': 'OTHERS',\n",
       "   'source': 4428142924625477,\n",
       "   'attribute_group_name': 'Outros',\n",
       "   'value_id': None,\n",
       "   'value_name': 'cainiao-507',\n",
       "   'value_struct': None,\n",
       "   'values': [{'id': None,\n",
       "     'name': 'cainiao-507',\n",
       "     'struct': None,\n",
       "     'source': 4428142924625477}]}],\n",
       " 'differential_pricing': {'id': 33580182},\n",
       " 'original_price': None,\n",
       " 'category_id': 'MLB5084',\n",
       " 'official_store_id': None,\n",
       " 'catalog_product_id': None,\n",
       " 'tags': ['good_quality_picture', 'immediate_payment', 'cart_eligible']}"
      ]
     },
     "execution_count": 56,
     "metadata": {},
     "output_type": "execute_result"
    }
   ],
   "source": [
    "import requests as request\n",
    "import json\n",
    "import pandas as pd\n",
    " \n",
    "response = request.get('https://api.mercadolibre.com/sites/MLB/search?q=samsungGalaxyA30')\n",
    "data = json.loads(response.content)\n",
    "# df = pd.DataFrame.from_dict(data['results'])#Con esto metemos el contenido del json en un DF aunque se ve todo asqueroso y no sirve\n",
    "sad = data['results']#Con esto asiganamos a una variable lo que hay en resuls, que es la verdadera informacion que me interesa\n",
    "sad[0]\n",
    "\n"
   ]
  },
  {
   "cell_type": "code",
   "execution_count": 55,
   "metadata": {},
   "outputs": [
    {
     "data": {
      "text/plain": [
       "{'id': 459734183,\n",
       " 'permalink': None,\n",
       " 'power_seller_status': None,\n",
       " 'car_dealer': False,\n",
       " 'real_estate_agency': False,\n",
       " 'tags': ['international_seller']}"
      ]
     },
     "execution_count": 55,
     "metadata": {},
     "output_type": "execute_result"
    }
   ],
   "source": [
    "sad[1]['seller']"
   ]
  },
  {
   "cell_type": "code",
   "execution_count": null,
   "metadata": {},
   "outputs": [],
   "source": []
  }
 ],
 "metadata": {
  "kernelspec": {
   "display_name": "Python 3",
   "language": "python",
   "name": "python3"
  },
  "language_info": {
   "codemirror_mode": {
    "name": "ipython",
    "version": 3
   },
   "file_extension": ".py",
   "mimetype": "text/x-python",
   "name": "python",
   "nbconvert_exporter": "python",
   "pygments_lexer": "ipython3",
   "version": "3.7.6"
  }
 },
 "nbformat": 4,
 "nbformat_minor": 4
}
